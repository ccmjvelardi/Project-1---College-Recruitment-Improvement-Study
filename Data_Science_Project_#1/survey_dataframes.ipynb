{
 "cells": [
  {
   "cell_type": "markdown",
   "id": "7d331bc4-998c-47d7-b452-fffcbee4229c",
   "metadata": {},
   "source": [
    "# James Velardi\n",
    "\n",
    "## February 21st, 2025\n",
    "\n",
    "## Project#1 Part2\n",
    "\n",
    "## Import CSV Files To Clean up"
   ]
  },
  {
   "cell_type": "markdown",
   "id": "035f18b8-5286-4aa7-b291-2ea244f497f6",
   "metadata": {},
   "source": [
    "### Import pandas"
   ]
  },
  {
   "cell_type": "code",
   "execution_count": 1,
   "id": "c9d179ec-c173-4c67-ba69-d817a2cf9a2e",
   "metadata": {},
   "outputs": [
    {
     "name": "stdout",
     "output_type": "stream",
     "text": [
      "2.2.3\n"
     ]
    }
   ],
   "source": [
    "import pandas as pd\n",
    "\n",
    "print(pd.__version__)\n",
    "\n",
    "#pd.set_option('display.max_rows', None)"
   ]
  },
  {
   "cell_type": "markdown",
   "id": "2b072cc6-dab9-44a9-9a26-a8716037ffb8",
   "metadata": {},
   "source": [
    "### Upload the csv files to pandas"
   ]
  },
  {
   "cell_type": "code",
   "execution_count": 2,
   "id": "f58aec6e-643d-4a28-be75-7df6225b908e",
   "metadata": {},
   "outputs": [],
   "source": [
    "datafile2020 = \"Non-Majors Survey Results - Fall 2020.csv\"\n",
    "datafile2021 = \"Non-Majors Survey Results - Fall 2021.csv\"\n",
    "datafile2022 = \"Non-Majors Survey Results - Fall 2022.csv\"\n",
    "datafile2023 = \"Non-Majors Survey Results - Fall 2023.csv\"\n",
    "datafile2024 = \"Non-Majors Survey Results - Fall 2024.csv\"\n"
   ]
  },
  {
   "cell_type": "markdown",
   "id": "d8556ac9-c74d-407e-97a7-b6029b892251",
   "metadata": {},
   "source": [
    "### Store each csv file into a variable to perform pandas operations on"
   ]
  },
  {
   "cell_type": "code",
   "execution_count": 3,
   "id": "10af0eb7-947f-469b-89c9-37e6eb19d31c",
   "metadata": {},
   "outputs": [],
   "source": [
    "df1 = pd.read_csv(datafile2020)\n",
    "df2 = pd.read_csv(datafile2021, encoding = \"Windows-1252\")\n",
    "df3 = pd.read_csv(datafile2022)\n",
    "df4 = pd.read_csv(datafile2023)\n",
    "df5 = pd.read_csv(datafile2024)\n"
   ]
  },
  {
   "cell_type": "markdown",
   "id": "3fe981e9-8364-4c00-a0b5-99e220d7ea4a",
   "metadata": {},
   "source": [
    "### Open up df1"
   ]
  },
  {
   "cell_type": "code",
   "execution_count": null,
   "id": "8fdcb3be-9faf-4fba-a08b-c99dbf28c4aa",
   "metadata": {},
   "outputs": [],
   "source": [
    "df1"
   ]
  },
  {
   "cell_type": "markdown",
   "id": "c3088f25-64a2-4bde-bf09-30e05fa137cb",
   "metadata": {},
   "source": [
    "### Run the following pandas built-in operations on df1, describe(), columns, dtypes, shape, head(), tail(), sample(), info()"
   ]
  },
  {
   "cell_type": "code",
   "execution_count": null,
   "id": "a855d53e-e7c3-4251-b855-c9737fd7bd75",
   "metadata": {},
   "outputs": [],
   "source": [
    "df1.describe()"
   ]
  },
  {
   "cell_type": "code",
   "execution_count": null,
   "id": "7fc6e51b-1d70-4d3c-b896-0e404a5475d3",
   "metadata": {},
   "outputs": [],
   "source": [
    "df1.columns"
   ]
  },
  {
   "cell_type": "code",
   "execution_count": 5,
   "id": "acb4639f-f5ee-452b-b63e-730fbedcdcbb",
   "metadata": {},
   "outputs": [
    {
     "data": {
      "text/plain": [
       "(202, 44)"
      ]
     },
     "execution_count": 5,
     "metadata": {},
     "output_type": "execute_result"
    }
   ],
   "source": [
    "df1.shape"
   ]
  },
  {
   "cell_type": "code",
   "execution_count": 4,
   "id": "52895209-9995-4d4f-9def-c37dcb3d2f6f",
   "metadata": {},
   "outputs": [
    {
     "data": {
      "text/plain": [
       "Timestamp                                                                                                                                                                                                                              object\n",
       "Which course are you currently enrolled in?                                                                                                                                                                                            object\n",
       "What motivated you to seek a computing class at CCM?                                                                                                                                                                                   object\n",
       "Prior to applying to college, did you participate in any of the following events or activities at the County College of Morris and/or with the Department of Information Technologies, if at all? [Open House]                         object\n",
       "Prior to applying to college, did you participate in any of the following events or activities at the County College of Morris and/or with the Department of Information Technologies, if at all? [Instant Decision Day]               object\n",
       "Prior to applying to college, did you participate in any of the following events or activities at the County College of Morris and/or with the Department of Information Technologies, if at all? [On-Campus Information Session]      object\n",
       "Prior to applying to college, did you participate in any of the following events or activities at the County College of Morris and/or with the Department of Information Technologies, if at all? [Virtual Information Session]        object\n",
       "Prior to applying to college, did you participate in any of the following events or activities at the County College of Morris and/or with the Department of Information Technologies, if at all? [Women Who Dare]                     object\n",
       "Prior to applying to college, did you participate in any of the following events or activities at the County College of Morris and/or with the Department of Information Technologies, if at all? [Regional College Fair]              object\n",
       "To what extent did the following activities or experience impact your decision to enroll in an computing course at CCM? [Middle/High school computing class]                                                                           object\n",
       "To what extent did the following activities or experience impact your decision to enroll in an computing course at CCM? [Middle/High school computing related club]                                                                    object\n",
       "To what extent did the following activities or experience impact your decision to enroll in an computing course at CCM? [Computing-related competitions (e.g., Robotics competition, Lego competition, Cybersecurity, Programming)]    object\n",
       "To what extent did the following activities or experience impact your decision to enroll in an computing course at CCM? [Afterschool computing-related camp/program]                                                                   object\n",
       "To what extent did the following activities or experience impact your decision to enroll in an computing course at CCM? [Summer computing related camp/program]                                                                        object\n",
       "To what extent did the following activities or experience impact your decision to enroll in an computing course at CCM? [An AP computing class]                                                                                        object\n",
       "To what extent did the following activities or experience impact your decision to enroll in an computing course at CCM? [A dual enrollment computing class]                                                                            object\n",
       "To what extent did the following activities or experience impact your decision to enroll in an computing course at CCM? [Family or friend influence]                                                                                   object\n",
       "To what extent did the following activities or experience impact your decision to enroll in an computing course at CCM? [Family or friend working in the computing field]                                                              object\n",
       "To what extent did the following activities or experience impact your decision to enroll in an computing course at CCM? [High school teacher or guidance counselor]                                                                    object\n",
       "To what extent did the following activities or experience impact your decision to enroll in an computing course at CCM? [Employer influence]                                                                                           object\n",
       "How did you hear about County College of Morris (check all that apply)?                                                                                                                                                                object\n",
       "To what extent did the following impact your decision to attend County College of Morris? [Affordable cost]                                                                                                                            object\n",
       "To what extent did the following impact your decision to attend County College of Morris? [Location/convenience]                                                                                                                       object\n",
       "To what extent did the following impact your decision to attend County College of Morris? [Choice of programs]                                                                                                                         object\n",
       "To what extent did the following impact your decision to attend County College of Morris? [Online offerings]                                                                                                                           object\n",
       "To what extent did the following impact your decision to attend County College of Morris? [Family/friend referral]                                                                                                                     object\n",
       "To what extent did the following impact your decision to attend County College of Morris? [Faculty/staff]                                                                                                                              object\n",
       "To what extent did the following impact your decision to attend County College of Morris? [College reputation]                                                                                                                         object\n",
       "To what extent did the following impact your decision to attend County College of Morris? [Scholarships]                                                                                                                               object\n",
       "To what extent did the following impact your decision to attend County College of Morris? [Transfer student]                                                                                                                           object\n",
       "To what extent did the following impact your decision to attend County College of Morris? [Small class sizes]                                                                                                                          object\n",
       "To what extent did the following impact your decision to attend County College of Morris? [Extra curricula opportunities]                                                                                                              object\n",
       "What degree program are you currently enrolled in?                                                                                                                                                                                     object\n",
       "Did you receive information about our computing course from any of the following sources? [High school guidance counselor]                                                                                                             object\n",
       "Did you receive information about our computing course from any of the following sources? [CCM Information Technologies Website]                                                                                                       object\n",
       "Did you receive information about our computing course from any of the following sources? [CCM Admissions]                                                                                                                             object\n",
       "Did you receive information about our computing course from any of the following sources? [CCM advisor/counselor]                                                                                                                      object\n",
       "Did you receive information about our computing course from any of the following sources? [Employer]                                                                                                                                   object\n",
       "Did you receive information about our computing course from any of the following sources? [Other]                                                                                                                                      object\n",
       "On a scale of 1 to 5, with 1 being not at all interested and 5 being extremely interested, how interested are you taking more courses in Computer Science, Information Technology or Game Development?                                  int64\n",
       "If you answered that you were interested in taking more computing classes, which ones interest you most? (check all that apply)                                                                                                        object\n",
       "Gender                                                                                                                                                                                                                                 object\n",
       "Race/ethnicity                                                                                                                                                                                                                         object\n",
       "Age                                                                                                                                                                                                                                    object\n",
       "dtype: object"
      ]
     },
     "execution_count": 4,
     "metadata": {},
     "output_type": "execute_result"
    }
   ],
   "source": [
    "df1.dtypes"
   ]
  },
  {
   "cell_type": "code",
   "execution_count": null,
   "id": "af435213-9edb-42e5-a8f8-6f1cad7eb8a7",
   "metadata": {},
   "outputs": [],
   "source": [
    "df1.head()\n"
   ]
  },
  {
   "cell_type": "code",
   "execution_count": null,
   "id": "a3095d77-cbfb-4d14-bd57-dcfe60854741",
   "metadata": {},
   "outputs": [],
   "source": [
    "df1.tail()"
   ]
  },
  {
   "cell_type": "code",
   "execution_count": 6,
   "id": "a7bfcb58-1d08-45e7-a281-0d7be15426e8",
   "metadata": {},
   "outputs": [
    {
     "data": {
      "text/html": [
       "<div>\n",
       "<style scoped>\n",
       "    .dataframe tbody tr th:only-of-type {\n",
       "        vertical-align: middle;\n",
       "    }\n",
       "\n",
       "    .dataframe tbody tr th {\n",
       "        vertical-align: top;\n",
       "    }\n",
       "\n",
       "    .dataframe thead th {\n",
       "        text-align: right;\n",
       "    }\n",
       "</style>\n",
       "<table border=\"1\" class=\"dataframe\">\n",
       "  <thead>\n",
       "    <tr style=\"text-align: right;\">\n",
       "      <th></th>\n",
       "      <th>Timestamp</th>\n",
       "      <th>Which course are you currently enrolled in?</th>\n",
       "      <th>What motivated you to seek a computing class at CCM?</th>\n",
       "      <th>Prior to applying to college, did you participate in any of the following events or activities at the County College of Morris and/or with the Department of Information Technologies, if at all? [Open House]</th>\n",
       "      <th>Prior to applying to college, did you participate in any of the following events or activities at the County College of Morris and/or with the Department of Information Technologies, if at all? [Instant Decision Day]</th>\n",
       "      <th>Prior to applying to college, did you participate in any of the following events or activities at the County College of Morris and/or with the Department of Information Technologies, if at all? [On-Campus Information Session]</th>\n",
       "      <th>Prior to applying to college, did you participate in any of the following events or activities at the County College of Morris and/or with the Department of Information Technologies, if at all? [Virtual Information Session]</th>\n",
       "      <th>Prior to applying to college, did you participate in any of the following events or activities at the County College of Morris and/or with the Department of Information Technologies, if at all? [Women Who Dare]</th>\n",
       "      <th>Prior to applying to college, did you participate in any of the following events or activities at the County College of Morris and/or with the Department of Information Technologies, if at all? [Regional College Fair]</th>\n",
       "      <th>To what extent did the following activities or experience impact your decision to enroll in an computing course at CCM? [Middle/High school computing class]</th>\n",
       "      <th>...</th>\n",
       "      <th>Did you receive information about our computing course from any of the following sources? [CCM Information Technologies Website]</th>\n",
       "      <th>Did you receive information about our computing course from any of the following sources? [CCM Admissions]</th>\n",
       "      <th>Did you receive information about our computing course from any of the following sources? [CCM advisor/counselor]</th>\n",
       "      <th>Did you receive information about our computing course from any of the following sources? [Employer]</th>\n",
       "      <th>Did you receive information about our computing course from any of the following sources? [Other]</th>\n",
       "      <th>On a scale of 1 to 5, with 1 being not at all interested and 5 being extremely interested, how interested are you taking more courses in Computer Science, Information Technology or Game Development?</th>\n",
       "      <th>If you answered that you were interested in taking more computing classes, which ones interest you most? (check all that apply)</th>\n",
       "      <th>Gender</th>\n",
       "      <th>Race/ethnicity</th>\n",
       "      <th>Age</th>\n",
       "    </tr>\n",
       "  </thead>\n",
       "  <tbody>\n",
       "    <tr>\n",
       "      <th>175</th>\n",
       "      <td>2020/09/24 11:34:55 AM EST</td>\n",
       "      <td>CMP 101 Computer Information Literacy</td>\n",
       "      <td>It’s a required class for the degree I’m seeki...</td>\n",
       "      <td>No</td>\n",
       "      <td>No</td>\n",
       "      <td>No</td>\n",
       "      <td>No</td>\n",
       "      <td>No</td>\n",
       "      <td>No</td>\n",
       "      <td>NaN</td>\n",
       "      <td>...</td>\n",
       "      <td>No</td>\n",
       "      <td>Don't recall</td>\n",
       "      <td>Yes</td>\n",
       "      <td>No</td>\n",
       "      <td>No</td>\n",
       "      <td>3</td>\n",
       "      <td>Game Design</td>\n",
       "      <td>Woman</td>\n",
       "      <td>Black/African American</td>\n",
       "      <td>19-20</td>\n",
       "    </tr>\n",
       "  </tbody>\n",
       "</table>\n",
       "<p>1 rows × 44 columns</p>\n",
       "</div>"
      ],
      "text/plain": [
       "                      Timestamp Which course are you currently enrolled in?  \\\n",
       "175  2020/09/24 11:34:55 AM EST       CMP 101 Computer Information Literacy   \n",
       "\n",
       "    What motivated you to seek a computing class at CCM?  \\\n",
       "175  It’s a required class for the degree I’m seeki...     \n",
       "\n",
       "    Prior to applying to college, did you participate in any of the following events or activities at the County College of Morris and/or with the Department of Information Technologies, if at all? [Open House]  \\\n",
       "175                                                 No                                                                                                                                                               \n",
       "\n",
       "    Prior to applying to college, did you participate in any of the following events or activities at the County College of Morris and/or with the Department of Information Technologies, if at all? [Instant Decision Day]  \\\n",
       "175                                                 No                                                                                                                                                                         \n",
       "\n",
       "    Prior to applying to college, did you participate in any of the following events or activities at the County College of Morris and/or with the Department of Information Technologies, if at all? [On-Campus Information Session]  \\\n",
       "175                                                 No                                                                                                                                                                                  \n",
       "\n",
       "    Prior to applying to college, did you participate in any of the following events or activities at the County College of Morris and/or with the Department of Information Technologies, if at all? [Virtual Information Session]  \\\n",
       "175                                                 No                                                                                                                                                                                \n",
       "\n",
       "    Prior to applying to college, did you participate in any of the following events or activities at the County College of Morris and/or with the Department of Information Technologies, if at all? [Women Who Dare]  \\\n",
       "175                                                 No                                                                                                                                                                   \n",
       "\n",
       "    Prior to applying to college, did you participate in any of the following events or activities at the County College of Morris and/or with the Department of Information Technologies, if at all? [Regional College Fair]  \\\n",
       "175                                                 No                                                                                                                                                                          \n",
       "\n",
       "    To what extent did the following activities or experience impact your decision to enroll in an computing course at CCM? [Middle/High school computing class]  \\\n",
       "175                                                NaN                                                                                                             \n",
       "\n",
       "     ...  \\\n",
       "175  ...   \n",
       "\n",
       "    Did you receive information about our computing course from any of the following sources? [CCM Information Technologies Website]  \\\n",
       "175                                                 No                                                                                 \n",
       "\n",
       "    Did you receive information about our computing course from any of the following sources? [CCM Admissions]  \\\n",
       "175                                       Don't recall                                                           \n",
       "\n",
       "    Did you receive information about our computing course from any of the following sources? [CCM advisor/counselor]  \\\n",
       "175                                                Yes                                                                  \n",
       "\n",
       "    Did you receive information about our computing course from any of the following sources? [Employer]  \\\n",
       "175                                                 No                                                     \n",
       "\n",
       "    Did you receive information about our computing course from any of the following sources? [Other]  \\\n",
       "175                                                 No                                                  \n",
       "\n",
       "    On a scale of 1 to 5, with 1 being not at all interested and 5 being extremely interested, how interested are you taking more courses in Computer Science, Information Technology or Game Development?  \\\n",
       "175                                                  3                                                                                                                                                       \n",
       "\n",
       "    If you answered that you were interested in taking more computing classes, which ones interest you most? (check all that apply)  \\\n",
       "175                                        Game Design                                                                                \n",
       "\n",
       "    Gender          Race/ethnicity   Age   \n",
       "175  Woman  Black/African American  19-20  \n",
       "\n",
       "[1 rows x 44 columns]"
      ]
     },
     "execution_count": 6,
     "metadata": {},
     "output_type": "execute_result"
    }
   ],
   "source": [
    "df1.sample()"
   ]
  },
  {
   "cell_type": "code",
   "execution_count": null,
   "id": "f090f4aa-7b2f-4dd3-bc6d-38d0e7265da0",
   "metadata": {},
   "outputs": [],
   "source": [
    "df1.info()"
   ]
  },
  {
   "cell_type": "markdown",
   "id": "5cec5079-d87b-485f-acd1-96aadc207977",
   "metadata": {},
   "source": [
    "### Open up df2"
   ]
  },
  {
   "cell_type": "code",
   "execution_count": null,
   "id": "e8d0d844-6db0-4b75-ab69-5b6c02e683b5",
   "metadata": {},
   "outputs": [],
   "source": [
    "df2"
   ]
  },
  {
   "cell_type": "markdown",
   "id": "91e2067f-7930-4f46-aacd-296fa8eaa0d6",
   "metadata": {},
   "source": [
    "### Run the following pandas built-in operations on df2, describe(), columns, dtypes, shape, head(), tail(), sample(), info()"
   ]
  },
  {
   "cell_type": "code",
   "execution_count": null,
   "id": "6544e37f-3863-487d-af87-389416987324",
   "metadata": {},
   "outputs": [],
   "source": [
    "df2.describe()"
   ]
  },
  {
   "cell_type": "code",
   "execution_count": null,
   "id": "6c06822b-0e08-4645-87ca-81a63d3745e1",
   "metadata": {},
   "outputs": [],
   "source": [
    "df2.columns"
   ]
  },
  {
   "cell_type": "code",
   "execution_count": null,
   "id": "85acf0c3-1c2f-47d3-9165-ae9ade3fb8b3",
   "metadata": {},
   "outputs": [],
   "source": [
    "df2.dtypes"
   ]
  },
  {
   "cell_type": "code",
   "execution_count": null,
   "id": "464f518a-5429-47fb-aa3a-199174471f2b",
   "metadata": {},
   "outputs": [],
   "source": [
    "df2.shape"
   ]
  },
  {
   "cell_type": "code",
   "execution_count": null,
   "id": "2b215a77-5b41-4edc-b5c9-a6acfa4f3e22",
   "metadata": {},
   "outputs": [],
   "source": [
    "df2.head()"
   ]
  },
  {
   "cell_type": "code",
   "execution_count": null,
   "id": "7cc385b3-6bd5-4193-ae05-66325ea5c50c",
   "metadata": {},
   "outputs": [],
   "source": [
    "df2.tail()"
   ]
  },
  {
   "cell_type": "code",
   "execution_count": null,
   "id": "5116e456-6ec5-4cf8-ba4a-866971938029",
   "metadata": {},
   "outputs": [],
   "source": [
    "df2.sample()"
   ]
  },
  {
   "cell_type": "code",
   "execution_count": null,
   "id": "1ea54baf-64f3-47d3-9825-71f2881ee1b7",
   "metadata": {},
   "outputs": [],
   "source": [
    "df2.info()"
   ]
  },
  {
   "cell_type": "markdown",
   "id": "3396d55e-2962-42a3-a6c3-5757868a7c85",
   "metadata": {},
   "source": [
    "### Open up df3"
   ]
  },
  {
   "cell_type": "code",
   "execution_count": null,
   "id": "92a59fab-9783-478d-8113-1301ba3663cb",
   "metadata": {},
   "outputs": [],
   "source": [
    "df3"
   ]
  },
  {
   "cell_type": "markdown",
   "id": "c962b3ef-8289-4f10-ae16-4fd48123e141",
   "metadata": {},
   "source": [
    "### Run the following pandas built-in operations on df3, describe(), columns, dtypes, shape, head(), tail(), sample(), info()"
   ]
  },
  {
   "cell_type": "code",
   "execution_count": null,
   "id": "28885167-095a-492e-86a8-9109114abb17",
   "metadata": {},
   "outputs": [],
   "source": [
    "df3.describe()"
   ]
  },
  {
   "cell_type": "code",
   "execution_count": null,
   "id": "905e3b10-9f92-4d89-aa0f-47ea0cfb30cd",
   "metadata": {},
   "outputs": [],
   "source": [
    "df3.columns"
   ]
  },
  {
   "cell_type": "code",
   "execution_count": null,
   "id": "e63fb48b-0aa2-4d9c-9604-d7de69d15e51",
   "metadata": {},
   "outputs": [],
   "source": [
    "df3.dtypes"
   ]
  },
  {
   "cell_type": "code",
   "execution_count": null,
   "id": "d8373361-5203-4cd1-bb11-460a7cfcf979",
   "metadata": {},
   "outputs": [],
   "source": [
    "df3.shape"
   ]
  },
  {
   "cell_type": "code",
   "execution_count": null,
   "id": "74f41c1d-28d9-438a-b243-571332a4351a",
   "metadata": {},
   "outputs": [],
   "source": [
    "df3.head()"
   ]
  },
  {
   "cell_type": "code",
   "execution_count": null,
   "id": "da2223d9-3090-48f5-9701-13f92d2c70d0",
   "metadata": {},
   "outputs": [],
   "source": [
    "df3.tail()"
   ]
  },
  {
   "cell_type": "code",
   "execution_count": null,
   "id": "27aec7d0-00b1-4379-b524-0722e85655b1",
   "metadata": {},
   "outputs": [],
   "source": [
    "df3.sample()"
   ]
  },
  {
   "cell_type": "code",
   "execution_count": null,
   "id": "3f93245b-b3a5-4f96-ba8b-8e1822288a48",
   "metadata": {},
   "outputs": [],
   "source": [
    "df3.info()"
   ]
  },
  {
   "cell_type": "markdown",
   "id": "c834611f-debc-4ac0-a162-abc7955e1494",
   "metadata": {},
   "source": [
    "### Open up df4"
   ]
  },
  {
   "cell_type": "code",
   "execution_count": null,
   "id": "24c26d27-b017-410b-b547-4f072bcea00f",
   "metadata": {},
   "outputs": [],
   "source": [
    "df4"
   ]
  },
  {
   "cell_type": "markdown",
   "id": "bf82e89f-ee89-4e55-b255-9615fa5a7a90",
   "metadata": {},
   "source": [
    "### Run the following pandas built-in operations on df4, describe(), columns, dtypes, shape, head(), tail(), sample(), info()"
   ]
  },
  {
   "cell_type": "code",
   "execution_count": null,
   "id": "eb1ef472-596c-4c64-a732-50a13895ff11",
   "metadata": {},
   "outputs": [],
   "source": [
    "df4.describe()"
   ]
  },
  {
   "cell_type": "code",
   "execution_count": null,
   "id": "20ad41ab-00ac-45af-a8bb-f93dd2f557fc",
   "metadata": {},
   "outputs": [],
   "source": [
    "df4.columns"
   ]
  },
  {
   "cell_type": "code",
   "execution_count": null,
   "id": "f34802f6-1a65-44f2-b56e-3f6d044573b7",
   "metadata": {},
   "outputs": [],
   "source": [
    "df4.dtypes"
   ]
  },
  {
   "cell_type": "code",
   "execution_count": null,
   "id": "194f5d83-38c5-4976-82ea-68c151fbc2d0",
   "metadata": {},
   "outputs": [],
   "source": [
    "df4.shape"
   ]
  },
  {
   "cell_type": "code",
   "execution_count": null,
   "id": "41f244bd-2d85-4161-8739-096cf35b4647",
   "metadata": {},
   "outputs": [],
   "source": [
    "df4.head()"
   ]
  },
  {
   "cell_type": "code",
   "execution_count": null,
   "id": "226fb342-f968-4a08-8e92-ca5d23e2d034",
   "metadata": {},
   "outputs": [],
   "source": [
    "df4.tail()"
   ]
  },
  {
   "cell_type": "code",
   "execution_count": null,
   "id": "2b1d22a8-e5d7-4621-9660-a5a3d26e07c8",
   "metadata": {},
   "outputs": [],
   "source": [
    "df4.sample()"
   ]
  },
  {
   "cell_type": "code",
   "execution_count": null,
   "id": "c38be2c7-887a-4dd0-b2ba-3a6ee6f11b69",
   "metadata": {},
   "outputs": [],
   "source": [
    "df4.info()"
   ]
  },
  {
   "cell_type": "markdown",
   "id": "2a1ad535-a900-455c-8c62-d74cfb6a30eb",
   "metadata": {},
   "source": [
    "### Open up df5"
   ]
  },
  {
   "cell_type": "code",
   "execution_count": null,
   "id": "46bedd9b-0e10-49d0-bf6a-c3e47650e16b",
   "metadata": {},
   "outputs": [],
   "source": [
    "df5"
   ]
  },
  {
   "cell_type": "markdown",
   "id": "a6a1da56-501f-47ef-935a-2f8a44815b17",
   "metadata": {},
   "source": [
    "### Run the following pandas built-in operations on df5, describe(), columns, dtypes, shape, head(), tail(), sample(), info()"
   ]
  },
  {
   "cell_type": "code",
   "execution_count": null,
   "id": "6ca81b2a-843a-4e41-b6f5-10a4f38b2e98",
   "metadata": {},
   "outputs": [],
   "source": [
    "df5.describe()"
   ]
  },
  {
   "cell_type": "code",
   "execution_count": null,
   "id": "f2ed178f-a8ac-49bd-9776-4ba5fb297a66",
   "metadata": {},
   "outputs": [],
   "source": [
    "df5.columns"
   ]
  },
  {
   "cell_type": "code",
   "execution_count": null,
   "id": "6af0b762-4713-47bb-9195-ef9ae3623dff",
   "metadata": {},
   "outputs": [],
   "source": [
    "df5.dtypes"
   ]
  },
  {
   "cell_type": "code",
   "execution_count": null,
   "id": "95fcfb5d-79b0-4ed7-95b2-0dba278d8e2c",
   "metadata": {},
   "outputs": [],
   "source": [
    "df5.shape"
   ]
  },
  {
   "cell_type": "code",
   "execution_count": null,
   "id": "987700f9-388a-457b-951f-dd0c2afd0cab",
   "metadata": {},
   "outputs": [],
   "source": [
    "df5.head()"
   ]
  },
  {
   "cell_type": "code",
   "execution_count": null,
   "id": "244c8f1c-c1e7-461e-b0a8-295b59eb6d21",
   "metadata": {},
   "outputs": [],
   "source": [
    "df5.tail()"
   ]
  },
  {
   "cell_type": "code",
   "execution_count": null,
   "id": "d61c9b5e-542f-43da-823b-ce711fc02cf1",
   "metadata": {},
   "outputs": [],
   "source": [
    "df5.sample()"
   ]
  },
  {
   "cell_type": "code",
   "execution_count": null,
   "id": "55f47f94-791b-41b5-aeaa-6e398913eabb",
   "metadata": {},
   "outputs": [],
   "source": [
    "df5.info()"
   ]
  },
  {
   "cell_type": "markdown",
   "id": "0f23fa3a-6fb2-4c0f-8c91-ac56d9b66170",
   "metadata": {
    "jp-MarkdownHeadingCollapsed": true
   },
   "source": [
    "## Clean the data to answer the following data science questions.\n",
    "\n",
    "### 1. Non-major students who are interested in taking another computer science class, which class/classes do they typically enroll in the most?\n",
    "\n",
    "### 2. What are some of the leading reasons for students to attend CCM?\n",
    "\n",
    "### 3. What are the most common reasons why students take computer science courses? \n",
    "\n",
    "### 4.Compare the age demographics of the survey over time. (2020-2024) What are the changes over time if any? "
   ]
  },
  {
   "cell_type": "markdown",
   "id": "c51880db-71b2-453d-9ccb-7eed396624a4",
   "metadata": {},
   "source": [
    "## df5 will be used to answer the first 3 data science questions. "
   ]
  },
  {
   "cell_type": "markdown",
   "id": "02fb0b5b-db25-425d-bfb3-a810e1653e61",
   "metadata": {},
   "source": [
    "\n",
    "### 1. Non-major students who are interested in taking another computer science class, which class/classes do they typically enroll in the most?\n",
    "\n",
    "### Get the columns needed to answer question 1."
   ]
  },
  {
   "cell_type": "code",
   "execution_count": null,
   "id": "105d31ba-8dbf-48be-beef-6859398887ae",
   "metadata": {},
   "outputs": [],
   "source": [
    "# Rename columns used to answer question 1 to single lowercase word\n",
    "df5.rename(columns={ 'Which course are you currently enrolled in?': 'courses', \n",
    "'On a scale of 1 to 5, with 1 being not at all interested and 5 being extremely interested, how interested are you taking more courses in Computer Science, Information Technology or Game Development?': 'scale_1_5',\n",
    "'If you answered that you were interested in taking more computing classes, which ones interest you most? [Web Development]': 'web_dev',\n",
    "'If you answered that you were interested in taking more computing classes, which ones interest you most? [CyberSecurity]': 'cyber', \n",
    "'If you answered that you were interested in taking more computing classes, which ones interest you most? [App Development]': 'app_dev',\n",
    "'If you answered that you were interested in taking more computing classes, which ones interest you most? [Data Analytics]': 'data',\n",
    "'If you answered that you were interested in taking more computing classes, which ones interest you most? [Machine Learning/Artificial Intelligence]':'machine_ai',\n",
    "'If you answered that you were interested in taking more computing classes, which ones interest you most? [Computer Programming]': 'programming',\n",
    "'If you answered that you were interested in taking more computing classes, which ones interest you most? [Game Design]': 'game_design',\n",
    "'If you answered that you were interested in taking more computing classes, which ones interest you most? [Hardware Installation & Repair]': 'hardware'} ,inplace=True)\n",
    "\n",
    "# Take renamed columns to create a new dataframe for question 1\n",
    "question1df = df5[['courses', 'scale_1_5', 'web_dev', 'cyber', 'app_dev', 'data', 'machine_ai', 'programming', 'game_design', 'hardware']]\n",
    "question1df"
   ]
  },
  {
   "cell_type": "markdown",
   "id": "ad504bb0-afe7-4b32-8d3e-8de0d1a8f25e",
   "metadata": {},
   "source": [
    "### Run the info function to check for any null values"
   ]
  },
  {
   "cell_type": "code",
   "execution_count": null,
   "id": "a04375e5-bbbb-41d8-bc54-72f96a449ae5",
   "metadata": {
    "scrolled": true
   },
   "outputs": [],
   "source": [
    "question1df.info()"
   ]
  },
  {
   "cell_type": "markdown",
   "id": "a77a37b6-bfc6-40a8-95b5-0a652d9b26b4",
   "metadata": {},
   "source": [
    "### Get the statisics of student interest in taking another computer"
   ]
  },
  {
   "cell_type": "code",
   "execution_count": null,
   "id": "dab524ee-0529-426a-8985-02d2f9046d0e",
   "metadata": {},
   "outputs": [],
   "source": [
    "question1df.describe()"
   ]
  },
  {
   "cell_type": "markdown",
   "id": "6f44d380-7ab1-46c4-90c9-39526df3dd5b",
   "metadata": {},
   "source": [
    "### Filter out columns with a Yes and use that to compare what courses are being taken with a Yes\n"
   ]
  },
  {
   "cell_type": "code",
   "execution_count": null,
   "id": "b386e8b5-f70b-4872-9776-77e2b3335570",
   "metadata": {},
   "outputs": [],
   "source": [
    "#Filter out the no answers for web_dev\n",
    "web_filtered = question1df[question1df['web_dev'] == 'Yes']\n",
    "\n",
    "#After filtering, figure out which class has the most enrollment based on web_dev interest\n",
    "web_filtered['courses'].max()"
   ]
  },
  {
   "cell_type": "code",
   "execution_count": null,
   "id": "dda65224-d1db-497a-8ec5-2b83996305c9",
   "metadata": {},
   "outputs": [],
   "source": [
    "#Filter out the no answers for cyber\n",
    "cyber_filtered = question1df[question1df['cyber'] == 'Yes']\n",
    "\n",
    "#After filtering, figure out which class has the most enrollment based on cyber interest\n",
    "cyber_filtered['courses'].max()"
   ]
  },
  {
   "cell_type": "code",
   "execution_count": null,
   "id": "bc30e4ee-7b95-456c-905d-26ad0dcf7c76",
   "metadata": {},
   "outputs": [],
   "source": [
    "#Filter out the no answers for app_dev\n",
    "app_filtered = question1df[question1df['app_dev'] == 'Yes']\n",
    "\n",
    "#After filtering, figure out which class has the most enrollment based on app_dev interest\n",
    "app_filtered['courses'].max()"
   ]
  },
  {
   "cell_type": "code",
   "execution_count": null,
   "id": "30066f72-4233-4eb6-8a41-94161274f2e0",
   "metadata": {},
   "outputs": [],
   "source": [
    "#Filter out the no answers for data\n",
    "data_filtered = question1df[question1df['data'] == 'Yes']\n",
    "\n",
    "#After filtering, figure out which class has the most enrollment based on data interest\n",
    "data_filtered['courses'].max()"
   ]
  },
  {
   "cell_type": "code",
   "execution_count": null,
   "id": "d67c2d7a-c24e-417f-8d04-5ea0f543497f",
   "metadata": {},
   "outputs": [],
   "source": [
    "#Filter out the no answers for machine_ai\n",
    "ai_filtered = question1df[question1df['machine_ai'] == 'Yes']\n",
    "\n",
    "#After filtering, figure out which class has the most enrollment based on machine_ai interest\n",
    "ai_filtered['courses'].max()"
   ]
  },
  {
   "cell_type": "code",
   "execution_count": null,
   "id": "62e5858e-586d-4bc9-95f9-74a3d7b9e83b",
   "metadata": {},
   "outputs": [],
   "source": [
    "#Filter out the no answers for programming\n",
    "programming_filtered = question1df[question1df['programming'] == 'Yes']\n",
    "\n",
    "#After filtering, figure out which class has the most enrollment based on programming interest\n",
    "programming_filtered['courses'].max()"
   ]
  },
  {
   "cell_type": "code",
   "execution_count": null,
   "id": "f0113ee6-11a9-4bd1-b355-d58ecd291c91",
   "metadata": {},
   "outputs": [],
   "source": [
    "#Filter out the no answers for game_design\n",
    "game_filtered = question1df[question1df['game_design'] == 'Yes']\n",
    "\n",
    "#After filtering, figure out which class has the most enrollment based on game_design interest\n",
    "game_filtered['courses'].max()"
   ]
  },
  {
   "cell_type": "code",
   "execution_count": null,
   "id": "7bd61b50-b671-4bb9-a83b-dd17cfd881fa",
   "metadata": {},
   "outputs": [],
   "source": [
    "#Filter out the no answers for hardware\n",
    "hardware_filtered = question1df[question1df['hardware'] == 'Yes']\n",
    "\n",
    "#After filtering, figure out which class has the most enrollment based on hardware interest\n",
    "hardware_filtered['courses'].max()"
   ]
  },
  {
   "cell_type": "markdown",
   "id": "b3f23c26-c8a6-4559-a862-147622ff3ac4",
   "metadata": {},
   "source": [
    "## We now have our answer to question 1 after running all the cells. \n",
    "\n",
    "### 'CMP 135 Computer Concepts with Applications'"
   ]
  },
  {
   "cell_type": "markdown",
   "id": "1e1b8781-a192-4a76-829e-59bebb1633d3",
   "metadata": {},
   "source": [
    "### 2. What are some of the leading reasons for students to attend CCM?\n",
    "\n",
    "### Get the columns needed to answer question 2"
   ]
  },
  {
   "cell_type": "code",
   "execution_count": null,
   "id": "1a5a0103-2aee-4281-992f-0ed0e02c711b",
   "metadata": {},
   "outputs": [],
   "source": [
    "df5.columns"
   ]
  },
  {
   "cell_type": "code",
   "execution_count": null,
   "id": "ac99260d-7dc9-4093-95ae-7dc127d13a3d",
   "metadata": {},
   "outputs": [],
   "source": [
    "#Rename columns for question 2 to a shorter word\n",
    "df5.rename(columns={'To what extent did the following impact your decision to attend County College of Morris? [Affordable cost]': 'cost',\n",
    "'To what extent did the following impact your decision to attend County College of Morris? [Location/convenience]': 'location',\n",
    "'To what extent did the following impact your decision to attend County College of Morris? [Choice of programs]': 'choice',\n",
    "'To what extent did the following impact your decision to attend County College of Morris? [Online offerings]': 'online',\n",
    "'To what extent did the following impact your decision to attend County College of Morris? [Family/friend referral]': 'referral',\n",
    "'To what extent did the following impact your decision to attend County College of Morris? [Faculty/staff]': 'faculty',\n",
    "'To what extent did the following impact your decision to attend County College of Morris? [College reputation]': 'reputation',\n",
    "'To what extent did the following impact your decision to attend County College of Morris? [Scholarships]': 'scholarships',\n",
    "'To what extent did the following impact your decision to attend County College of Morris? [Transfer student]': 'transfer', \n",
    "'To what extent did the following impact your decision to attend County College of Morris? [Small class sizes]': 'small_classes', \n",
    "'To what extent did the following impact your decision to attend County College of Morris? [Extra curricula opportunities]': 'extra_curricular'} ,inplace=True)  \n",
    "\n",
    "#Take the renamed columns and store them in a new dataframe\n",
    "question2df = df5[['cost', 'location', 'choice', 'online', 'referral', 'faculty', 'reputation', 'scholarships', 'transfer', 'small_classes', 'extra_curricular']] \n",
    "question2df"
   ]
  },
  {
   "cell_type": "markdown",
   "id": "36972f08-32d2-4ded-baa1-4dab064c4ac2",
   "metadata": {},
   "source": [
    "### Check the dataframe for any null values"
   ]
  },
  {
   "cell_type": "code",
   "execution_count": null,
   "id": "6dda5169-b4f9-4e98-831f-913be90250c7",
   "metadata": {},
   "outputs": [],
   "source": [
    "question2df.info()"
   ]
  },
  {
   "cell_type": "code",
   "execution_count": null,
   "id": "04a71ede-ab35-4544-9bb4-ee038e699f85",
   "metadata": {},
   "outputs": [],
   "source": [
    "question2df = question2df.fillna('No Impact')\n",
    "question2df"
   ]
  },
  {
   "cell_type": "markdown",
   "id": "d80f68cb-ae1e-426c-9447-31ef7795105a",
   "metadata": {},
   "source": [
    "### Upon going over the question2 dataframe, it's possible an optional answer could be to leave blank, so those have been filled as No Impact"
   ]
  },
  {
   "cell_type": "markdown",
   "id": "aa171e33-3ce0-4674-a70a-a87ac1eefca8",
   "metadata": {},
   "source": [
    "### Check the data for the highest impact in each column"
   ]
  },
  {
   "cell_type": "code",
   "execution_count": null,
   "id": "5f91dc83-2a45-4014-8546-89f9b0eb81a5",
   "metadata": {},
   "outputs": [],
   "source": [
    "question2df.describe()"
   ]
  },
  {
   "cell_type": "markdown",
   "id": "f3c91534-08f9-4c6a-bc6e-0d64136f2ae3",
   "metadata": {},
   "source": [
    "### We now have our answer for question 2.\n",
    "\n",
    "### Cost, Location, Choice, Online, and Referrals"
   ]
  },
  {
   "cell_type": "markdown",
   "id": "abb386a3-5062-42c2-815c-22479cda6434",
   "metadata": {},
   "source": [
    "### 3. What are the most common reasons why students take computer science courses?\n",
    "\n",
    "### Get the columns for question 3"
   ]
  },
  {
   "cell_type": "code",
   "execution_count": null,
   "id": "d690b6d9-6809-4301-a5f9-ec7c383ccd79",
   "metadata": {},
   "outputs": [],
   "source": [
    "df5.columns"
   ]
  },
  {
   "cell_type": "code",
   "execution_count": null,
   "id": "5b9b0477-9c67-4c90-a7f1-59318ebd538b",
   "metadata": {},
   "outputs": [],
   "source": [
    "df5.rename(columns={'What motivated you to seek a computing class at CCM? [It’s a required class for the degree I’m seeking]': 'requirement', \n",
    "'What motivated you to seek a computing class at CCM? [To keep current in computing skills]': 'keep_current', \n",
    "'What motivated you to seek a computing class at CCM? [Career Advancement]': 'career_advancement',\n",
    "'What motivated you to seek a computing class at CCM? [Career Change]': 'career_change', \n",
    "'What motivated you to seek a computing class at CCM? [Professional Development]': 'professional_development', \n",
    "'What motivated you to seek a computing class at CCM? [Job Displacement]': 'job_displacement', \n",
    "'What motivated you to seek a computing class at CCM? [Relocation]': 'relocation',\n",
    "'What motivated you to seek a computing class at CCM? [IT Industry Certifications]': 'it_certs',\n",
    "'What motivated you to seek a computing class at CCM? [Financial]': 'financial', \n",
    "'What motivated you to seek a computing class at CCM? [Personal Enrichment]': 'personal_enrichment', \n",
    "'What motivated you to seek a computing class at CCM? [Curiosity]': 'curiosity'}, inplace=True) \n",
    "\n",
    "question3df = df5[['requirement', 'keep_current', 'career_advancement', 'career_change', 'professional_development', 'job_displacement', 'relocation', 'it_certs', 'financial', 'personal_enrichment', 'curiosity']]\n",
    "question3df"
   ]
  },
  {
   "cell_type": "markdown",
   "id": "d9e69fb4-13e0-4d3c-81d9-1f9033eae4dc",
   "metadata": {},
   "source": [
    "### Check for any null values using info()"
   ]
  },
  {
   "cell_type": "code",
   "execution_count": null,
   "id": "1b594c93-e291-47f4-9180-69d5150add58",
   "metadata": {},
   "outputs": [],
   "source": [
    "question3df.info()"
   ]
  },
  {
   "cell_type": "markdown",
   "id": "2144c95d-89c0-450b-9926-a665644b6dcf",
   "metadata": {},
   "source": [
    "### No null values"
   ]
  },
  {
   "cell_type": "markdown",
   "id": "d8ae7831-7c7f-4b9f-b94b-47e952c71f62",
   "metadata": {},
   "source": [
    "### Run the describe function to look for highest impact"
   ]
  },
  {
   "cell_type": "code",
   "execution_count": null,
   "id": "133f0412-cc91-4841-a857-4fda1b619217",
   "metadata": {},
   "outputs": [],
   "source": [
    "question3df.describe()"
   ]
  },
  {
   "cell_type": "markdown",
   "id": "0311b77e-cd61-4197-94ee-0ad554a2c2ce",
   "metadata": {},
   "source": [
    "### Question 3 has now been answered. \n",
    "\n",
    "### The top reasons for students enrolling in a computer science class are, requirements, keep_current with tech, career_advancement, professional development, personally enrichment, and curiosity. "
   ]
  },
  {
   "cell_type": "markdown",
   "id": "c2d83b4c-088b-4c4e-82b2-d4adac837381",
   "metadata": {},
   "source": [
    "### Filtered CSV file to export for questions 1, 2, 3\n"
   ]
  },
  {
   "cell_type": "code",
   "execution_count": null,
   "id": "0d0163c1-8919-4a9c-9b18-050e838b71d7",
   "metadata": {},
   "outputs": [],
   "source": [
    "questions1_3_csv = pd.concat([question1df, question2df, question3df], axis=1)\n",
    "\n",
    "questions1_3_csv"
   ]
  },
  {
   "cell_type": "code",
   "execution_count": null,
   "id": "976dcadf-8d8f-498d-8f3b-e1add92c0f8a",
   "metadata": {},
   "outputs": [],
   "source": [
    "questions1_3_csv.to_csv('questions1_3.csv', index=False)"
   ]
  },
  {
   "cell_type": "markdown",
   "id": "0b2e38cd-b443-430b-a40c-5cf3b178a00b",
   "metadata": {},
   "source": [
    "### 4.Compare the age demographics of the survey over time. (2020-2024) What are the changes over time if any?\n",
    "\n",
    "### Get the age columns from the non-majors surveys from 2020 to 2024 and rename for later csv upload\n"
   ]
  },
  {
   "cell_type": "code",
   "execution_count": null,
   "id": "c93f2ca0-49ca-4d3d-b6e2-d2c40cf69e76",
   "metadata": {},
   "outputs": [],
   "source": [
    "#Age column for 2020\n",
    "df1.rename(columns={'Age ': \"2020_ages\"}, inplace=True)\n",
    "\n",
    "#Age column for 2021\n",
    "df2.rename(columns={'Age': \"2021_ages\"}, inplace=True)\n",
    "\n",
    "#Age column for 2022\n",
    "df3.rename(columns={'Age ': \"2022_ages\"}, inplace=True)\n",
    "\n",
    "#Age column for 2023\n",
    "df4.rename(columns={'Age ': \"2023_ages\"}, inplace=True)\n",
    "\n",
    "#Age column for 2024\n",
    "df5.rename(columns={'Age ': \"2024_ages\"}, inplace=True)\n"
   ]
  },
  {
   "cell_type": "code",
   "execution_count": null,
   "id": "802ef97f-d95b-4bdd-930a-fb136db265cc",
   "metadata": {},
   "outputs": [],
   "source": [
    "#Cell to confirm that the ages column was renamed properly\n",
    "\n",
    "df5.columns"
   ]
  },
  {
   "cell_type": "code",
   "execution_count": null,
   "id": "a2ec3c43-7bfe-4dd9-8b43-b352949c8481",
   "metadata": {},
   "outputs": [],
   "source": [
    "df5['2024_ages']"
   ]
  },
  {
   "cell_type": "code",
   "execution_count": null,
   "id": "b8570495-4e9b-47a2-ba57-96a37b4b7ac3",
   "metadata": {},
   "outputs": [],
   "source": [
    "\n",
    "df5['2024_ages'].describe()"
   ]
  },
  {
   "cell_type": "code",
   "execution_count": null,
   "id": "71b49783-78e6-4a35-a4f7-431b1feb96fc",
   "metadata": {},
   "outputs": [],
   "source": [
    "#Ages from the 2023 survey\n",
    "\n",
    "df4['2023_ages']"
   ]
  },
  {
   "cell_type": "code",
   "execution_count": null,
   "id": "7b8f7c46-80eb-457e-a524-727a1d87668c",
   "metadata": {},
   "outputs": [],
   "source": [
    "df4['2023_ages'].describe()"
   ]
  },
  {
   "cell_type": "code",
   "execution_count": null,
   "id": "9345f8c7-89a4-4894-86a1-875b457c7da4",
   "metadata": {},
   "outputs": [],
   "source": [
    "#Ages from the 2022 survey\n",
    "df3['2022_ages']"
   ]
  },
  {
   "cell_type": "code",
   "execution_count": null,
   "id": "1e5b319e-3b99-4a47-962d-04083217189c",
   "metadata": {},
   "outputs": [],
   "source": [
    "df3['2022_ages'].describe()"
   ]
  },
  {
   "cell_type": "code",
   "execution_count": null,
   "id": "b07284cd-a0ea-4615-a883-0f57b3295fd0",
   "metadata": {},
   "outputs": [],
   "source": [
    "#Ages from the 2021 survey\n",
    "df2['2021_ages']"
   ]
  },
  {
   "cell_type": "code",
   "execution_count": null,
   "id": "7fbcf714-d267-43c5-b690-33a1a7f0fb24",
   "metadata": {},
   "outputs": [],
   "source": [
    "df2['2021_ages'].describe()"
   ]
  },
  {
   "cell_type": "code",
   "execution_count": null,
   "id": "2899c165-5a9a-4327-8d18-f4226d450842",
   "metadata": {},
   "outputs": [],
   "source": [
    "#Get the ages from the 2020 survey\n",
    "df1['2020_ages']"
   ]
  },
  {
   "cell_type": "code",
   "execution_count": null,
   "id": "472e6643-528c-402d-87fe-bcdfa4c75a07",
   "metadata": {},
   "outputs": [],
   "source": [
    "df1['2020_ages'].describe()"
   ]
  },
  {
   "cell_type": "markdown",
   "id": "315d4570-b5b2-4d87-af0b-53b3258ce66a",
   "metadata": {},
   "source": [
    "### The average age group throughout time has been the 19-20 year age group, with the only exception being 2022 where the demographic was 18 and younger"
   ]
  },
  {
   "cell_type": "markdown",
   "id": "b795c3e5-8cc2-4b90-b80e-4b22ab27aa17",
   "metadata": {},
   "source": [
    "### Rename the dataframe age columns to their corresponding year to add to a cleaned up csv. "
   ]
  },
  {
   "cell_type": "markdown",
   "id": "81577ebd-ce83-4b33-a9a9-d1f5b5d01c86",
   "metadata": {},
   "source": [
    "### Export a new CSV file for all the ages throughout the years"
   ]
  },
  {
   "cell_type": "code",
   "execution_count": null,
   "id": "91cdebe6-034b-451b-b875-17971955889d",
   "metadata": {},
   "outputs": [],
   "source": [
    "ages2020 = df1['2020_ages']\n",
    "\n",
    "ages2021 = df2['2021_ages']\n",
    "\n",
    "ages2022 = df3['2022_ages']\n",
    "\n",
    "ages2023 = df4['2023_ages']\n",
    "\n",
    "ages2024 = df5['2024_ages']\n",
    "\n",
    "question4_csv = pd.concat([ages2020, ages2021, ages2022, ages2023, ages2024], axis=1)\n",
    "\n",
    "question4_csv"
   ]
  },
  {
   "cell_type": "code",
   "execution_count": null,
   "id": "09096c3b-c77c-46f3-8ea3-d2284df1ae9a",
   "metadata": {},
   "outputs": [],
   "source": [
    "question4_csv.to_csv('ages.csv', index=False)"
   ]
  },
  {
   "cell_type": "markdown",
   "id": "56a5e528-950d-4c8b-90dc-70b05fc7f64f",
   "metadata": {},
   "source": [
    "## Citations \n",
    "\n",
    "### Used this to debug opening the 2021 survey file. \n",
    "\n",
    "### OpenAI. \"Response to UnicodeDecodeError in Pandas.\" ChatGPT, 15 Feb. 2025, https://chat.openai.com/.\n",
    "\n",
    "### GoogleAI. “Search for ‘add dataframes together.” Google, 22 Feb. 2025, https://www.google.com/search?q=add+dataframes+together."
   ]
  },
  {
   "cell_type": "code",
   "execution_count": null,
   "id": "48142a8b-2696-42cd-909c-e219919a2b82",
   "metadata": {},
   "outputs": [],
   "source": []
  }
 ],
 "metadata": {
  "kernelspec": {
   "display_name": "Python 3 (ipykernel)",
   "language": "python",
   "name": "python3"
  },
  "language_info": {
   "codemirror_mode": {
    "name": "ipython",
    "version": 3
   },
   "file_extension": ".py",
   "mimetype": "text/x-python",
   "name": "python",
   "nbconvert_exporter": "python",
   "pygments_lexer": "ipython3",
   "version": "3.12.7"
  }
 },
 "nbformat": 4,
 "nbformat_minor": 5
}
