{
 "cells": [
  {
   "cell_type": "markdown",
   "id": "a1506d87-c29a-46b3-a211-657c81a26d71",
   "metadata": {},
   "source": [
    "# James Velardi\n",
    "\n",
    "## March 8th, 2025\n",
    "\n",
    "## Project#1 Part3\n",
    "\n",
    "## Data Analysis and Visualization"
   ]
  },
  {
   "cell_type": "markdown",
   "id": "031a4e91-9181-400b-a864-afed78fe2a08",
   "metadata": {},
   "source": [
    "### Import pandas and pyplot from matplotlib"
   ]
  },
  {
   "cell_type": "code",
   "execution_count": null,
   "id": "b7e90236-db56-4428-9f23-b8d0309e573a",
   "metadata": {},
   "outputs": [],
   "source": [
    "import pandas as pd\n",
    "\n",
    "import matplotlib\n",
    "\n",
    "import matplotlib.pyplot as plt\n",
    "\n",
    "#Print the version of pandas\n",
    "print(pd.__version__)\n",
    "\n",
    "#Print the version of matplotlib\n",
    "print(matplotlib.__version__)\n"
   ]
  },
  {
   "cell_type": "markdown",
   "id": "14dc236b-e9fb-49b9-96ac-5904bba63792",
   "metadata": {},
   "source": [
    "### Upload cleaned CSV files to plot"
   ]
  },
  {
   "cell_type": "code",
   "execution_count": null,
   "id": "c9418df0-17ba-4c22-b7ab-3f79b25556c8",
   "metadata": {},
   "outputs": [],
   "source": [
    "#CSV used to plot out questions 1-3\n",
    "questions1_3 = \"questions1_3.csv\"\n",
    "\n",
    "#CSV used to plot out question 4\n",
    "ages = \"ages.csv\"\n"
   ]
  },
  {
   "cell_type": "markdown",
   "id": "b709ea07-be3b-48f7-b862-1a1d74554b89",
   "metadata": {},
   "source": [
    "### Store each CSV file into a variable to use for pandas and pyplot"
   ]
  },
  {
   "cell_type": "code",
   "execution_count": null,
   "id": "b9e90728-b52c-43b4-8611-d4f1acc11243",
   "metadata": {},
   "outputs": [],
   "source": [
    "#Dataframe for questions 1-3\n",
    "df1 = pd.read_csv(questions1_3)\n",
    "\n",
    "#Dataframe for question 4\n",
    "df2 = pd.read_csv(ages)\n",
    "\n",
    "#Test to confirm the files uploaded successfully\n",
    "#df1\n",
    "#df2"
   ]
  },
  {
   "cell_type": "markdown",
   "id": "742c6810-a85a-4bbe-b44e-eee125d8a019",
   "metadata": {},
   "source": [
    "## Perform plotting operations to get our analysis for the following questions.\n",
    "\n",
    "### 1. Non-major students who are interested in taking another computer science class, which class/classes do they typically enroll in the most?\n",
    "\n",
    "### 2. What are some of the leading reasons for students to attend CCM?\n",
    "\n",
    "### 3. What are the most common reasons why students take computer science courses? \n",
    "\n",
    "### 4.Compare the age demographics of the survey over time. (2020-2024) What are the changes over time if any? "
   ]
  },
  {
   "cell_type": "markdown",
   "id": "246b5d45-e1ad-4103-bde9-0112e05145be",
   "metadata": {},
   "source": [
    "## df1 will be used to plot the first 3 data science questions. "
   ]
  },
  {
   "cell_type": "markdown",
   "id": "e407751a-7700-45df-8d29-50037999ef41",
   "metadata": {},
   "source": [
    "### 1. Non-major students who are interested in taking another computer science class, which class/classes do they typically enroll in the most?\n",
    "\n",
    "### Create a smaller dataframe to plot the first question"
   ]
  },
  {
   "cell_type": "code",
   "execution_count": null,
   "id": "135c7a7a-6c75-440f-a38f-981822c3b39e",
   "metadata": {},
   "outputs": [],
   "source": [
    "question1df = df1[['courses', 'scale_1_5', 'web_dev', 'cyber', 'app_dev', 'data', 'machine_ai', 'programming', 'game_design', 'hardware']]\n",
    "\n",
    "#Confirm the dataframe was shortened successfully\n",
    "question1df"
   ]
  },
  {
   "cell_type": "markdown",
   "id": "6bdaa5a0-6ebc-4e70-9612-7c2af4439c47",
   "metadata": {},
   "source": [
    "### Get the unique courses that students are enrolled in."
   ]
  },
  {
   "cell_type": "code",
   "execution_count": null,
   "id": "e698e470-1248-4bf8-a391-6eb990e9b709",
   "metadata": {},
   "outputs": [],
   "source": [
    "#Filter out the columns with yeses only for each column\n",
    "web_filtered = question1df[question1df['web_dev'] == 'Yes']\n",
    "\n",
    "cyber_filtered = question1df[question1df['cyber'] == 'Yes']\n",
    "\n",
    "app_filtered = question1df[question1df['app_dev'] == 'Yes']\n",
    "\n",
    "data_filtered = question1df[question1df['data'] == 'Yes']\n",
    "\n",
    "ai_filtered = question1df[question1df['machine_ai'] == 'Yes']\n",
    "\n",
    "programming_filtered = question1df[question1df['programming'] == 'Yes']\n",
    "\n",
    "game_filtered = question1df[question1df['game_design'] == 'Yes']\n",
    "\n",
    "hardware_filtered = question1df[question1df['hardware'] == 'Yes']\n",
    "\n",
    "#Get the unique courses students are enrolled in\n",
    "x = question1df['courses'].unique()\n",
    "\n",
    "#Get the total yes count for all filtered columns\n",
    "y = web_filtered['courses'].value_counts() + cyber_filtered['courses'].value_counts() + app_filtered['courses'].value_counts() + \\\n",
    "data_filtered['courses'].value_counts() + ai_filtered['courses'].value_counts() + programming_filtered['courses'].value_counts() + \\\n",
    "game_filtered['courses'].value_counts() + hardware_filtered['courses'].value_counts()\n",
    "\n",
    "#Increase the size of the graph\n",
    "plt.figure(figsize=(10,6))\n",
    "\n",
    "#Change the size and name of the x-axis category\n",
    "plt.xlabel(\"Courses\", fontsize=24)\n",
    "\n",
    "#Change the size and name of the y-azis category\n",
    "plt.ylabel(\"Number of Yeses\", fontsize=24)\n",
    "\n",
    "#Colors to use for the bar graph\n",
    "colors = ['red', 'blue', 'green',]\n",
    "\n",
    "#Make the graph for the bars\n",
    "bars = plt.bar(range(len(x)),y, color=colors)\n",
    "\n",
    "#Create a legend to indicate the class for the bars\n",
    "plt.legend(bars, x, title=\"Courses\",bbox_to_anchor=(1.05, 1), loc='upper left', fontsize=\"20\", title_fontsize=\"20\")\n",
    "\n",
    "#Show the graph\n",
    "plt.show()\n"
   ]
  },
  {
   "cell_type": "markdown",
   "id": "8dfd6246-d167-4f59-ab0e-f6a9c1678019",
   "metadata": {},
   "source": [
    "### After completing this bar graph, CMP 135 Computer Concepts with Applications is the class that has the most amount of non-computer science major students interested in taking another computer science class.\n",
    "###"
   ]
  },
  {
   "cell_type": "markdown",
   "id": "1170ab7c-4e8d-4af5-a8cc-68484a97afdc",
   "metadata": {},
   "source": [
    "### 2. What are some of the leading reasons for students to attend CCM?\n",
    "\n",
    "### Create a smaller dataframe to plot the second question"
   ]
  },
  {
   "cell_type": "code",
   "execution_count": null,
   "id": "61cfcb02-8714-4669-bb51-5d3268991ff0",
   "metadata": {},
   "outputs": [],
   "source": [
    "question2df = df1[['cost', 'location', 'choice', 'online', 'referral', 'faculty', 'reputation', 'scholarships', 'transfer', 'small_classes', 'extra_curricular']]\n",
    "question2df"
   ]
  },
  {
   "cell_type": "code",
   "execution_count": null,
   "id": "4e7cdc64-650a-4a9c-8897-059c497068b8",
   "metadata": {},
   "outputs": [],
   "source": [
    "#Filter out the columns for highest impact as we want to get the leading reasons for students attending CCM.\n",
    "cost = question2df[question2df[\"cost\"] == \"High Impact\"]\n",
    "location = question2df[question2df[\"location\"] == \"High Impact\"]\n",
    "choice = question2df[question2df[\"choice\"] == \"High Impact\"]\n",
    "online = question2df[question2df[\"online\"] == \"High Impact\"]\n",
    "referral = question2df[question2df[\"referral\"] == \"High Impact\"]\n",
    "faculty = question2df[question2df[\"faculty\"] == \"High Impact\"]\n",
    "reputation = question2df[question2df[\"reputation\"] == \"High Impact\"]\n",
    "scholarships = question2df[question2df[\"scholarships\"] == \"High Impact\"]\n",
    "transfer = question2df[question2df[\"transfer\"] == \"High Impact\"]\n",
    "small_classes = question2df[question2df[\"small_classes\"] == \"High Impact\"]\n",
    "extra_curricular = question2df[question2df[\"extra_curricular\"] == \"High Impact\"]\n",
    "\n",
    "#Change size to make plot wider\n",
    "plt.figure(figsize=(20,10))\n",
    "\n",
    "#Create the x-axis label\n",
    "plt.xlabel(\"Reasons for Choosing CCM\", fontsize=24)\n",
    "\n",
    "\n",
    "#Create the y-axis label\n",
    "plt.ylabel(\"Impact\", fontsize=24)\n",
    "\n",
    "#Colors used for the bar graph and legend\n",
    "colors2 = [\"red\", \"blue\", \"green\", \"yellow\", \"orange\", \"purple\", \"limegreen\", \"steelblue\", \"crimson\", \"darkviolet\", \"turquoise\"]\n",
    "\n",
    "#Plot each bar counting the filtered count and designate each color\n",
    "plt.bar('Costs', cost['cost'].count(), color=colors2[0])\n",
    "plt.bar('Location', location['location'].count(), color=colors2[1])\n",
    "plt.bar('Program_Choice', choice['choice'].count(), color=colors2[2])\n",
    "plt.bar('Online', online['online'].count(), color=colors2[3])\n",
    "plt.bar('Referral', referral['referral'].count(), color=colors2[4])\n",
    "plt.bar('Faculty', faculty['faculty'].count(), color=colors2[5])\n",
    "plt.bar('Reputation', reputation['reputation'].count(), color=colors2[6])\n",
    "plt.bar('Scholarships', scholarships['scholarships'].count(), color=colors2[7])\n",
    "plt.bar('Transfer', transfer['transfer'].count(), color=colors2[8])\n",
    "plt.bar('Small_classes', small_classes['small_classes'].count(), color=colors2[9])\n",
    "plt.bar('Extra_curricular', extra_curricular['extra_curricular'].count(), color=colors2[10])\n",
    "\n",
    "#Add a legend to improve readability for each column\n",
    "plt.legend(['Costs', 'Location', 'Program_Choice', 'Online', 'Referral', 'Faculty', 'Reputation', 'Scholarships', 'Transfer', 'Small_classes', 'Extra_curricular'], fontsize=20, title_fontsize=20, title = \"Reasons for Choosing CCM\")\n",
    "\n",
    "plt.show()"
   ]
  },
  {
   "cell_type": "markdown",
   "id": "0cdfe76b-240a-496b-87bf-bb110edea620",
   "metadata": {},
   "source": [
    "### We now know the top reasons for choosing CCM are costs, location, and program choices.\n",
    "###"
   ]
  },
  {
   "cell_type": "markdown",
   "id": "cbad9f4d-9ece-4557-a34f-696490c34c38",
   "metadata": {},
   "source": [
    "### 3. What are the most common reasons why students take computer science courses? \n",
    "\n",
    "### Create a smaller dataframe to plot the third question"
   ]
  },
  {
   "cell_type": "code",
   "execution_count": null,
   "id": "be3517df-813e-4bd0-a519-612510522e04",
   "metadata": {},
   "outputs": [],
   "source": [
    "question3df = df1[['requirement', 'keep_current', 'career_advancement', 'career_change', 'professional_development', 'job_displacement', 'relocation', 'it_certs', 'financial', 'personal_enrichment', 'curiosity']]\n",
    "question3df"
   ]
  },
  {
   "cell_type": "code",
   "execution_count": null,
   "id": "d1bb2a13-aa6f-4133-ae15-74fe66c6e874",
   "metadata": {},
   "outputs": [],
   "source": [
    "#Get the number or yes and no's for each column starting with no and moving to yes\n",
    "requirement = question3df['requirement'].value_counts(ascending=True)\n",
    "current = question3df['keep_current'].value_counts(ascending=True)\n",
    "advancement = question3df['career_advancement'].value_counts(ascending=True)\n",
    "career = question3df['career_change'].value_counts(ascending=True)\n",
    "professional = question3df['professional_development'].value_counts(ascending=True)\n",
    "job = question3df['job_displacement'].value_counts(ascending=True)\n",
    "relocation = question3df['relocation'].value_counts(ascending=True)\n",
    "it_certs = question3df['it_certs'].value_counts(ascending=True)\n",
    "financial = question3df['financial'].value_counts(ascending=True)\n",
    "enrichment = question3df['personal_enrichment'].value_counts(ascending=True)\n",
    "curiosity = question3df['curiosity'].value_counts(ascending=True)\n",
    "\n",
    "#Get the graph size\n",
    "plt.figure(figsize=(6,6))\n",
    "\n",
    "#Create the y-axis label\n",
    "plt.ylabel(\"Number of Yes and No's\", fontsize=20)\n",
    "\n",
    "plt.xlabel(\"Comparing Yes and No's\", fontsize=20)\n",
    "\n",
    "#Get the plot points to scatter into yes and no\n",
    "plt.scatter(requirement.index, requirement, color=colors2[0])\n",
    "plt.scatter(current.index, current, color=colors2[1])\n",
    "plt.scatter(advancement.index, advancement, color=colors2[2])\n",
    "plt.scatter(career.index, career, color=colors2[3])\n",
    "plt.scatter(professional.index, professional, color=colors2[4])\n",
    "plt.scatter(job.index, job, color=colors2[5])\n",
    "plt.scatter(relocation.index, relocation, color=colors2[6])\n",
    "plt.scatter(it_certs.index, it_certs, color=colors2[7])\n",
    "plt.scatter(financial.index, financial, color=colors2[8])\n",
    "plt.scatter(enrichment.index, enrichment, color=colors2[9])\n",
    "plt.scatter(curiosity.index, curiosity, color=colors2[10])\n",
    "\n",
    "\n",
    "#Connect the scatter points together for increased readability\n",
    "plt.plot(requirement.index, requirement, color=colors2[0])\n",
    "plt.plot(current.index, current, color=colors2[1])\n",
    "plt.plot(advancement.index, advancement, color=colors2[2])\n",
    "plt.plot(career.index, career, color=colors2[3])\n",
    "plt.plot(professional.index, professional, color=colors2[4])\n",
    "plt.plot(job.index, job, color=colors2[5])\n",
    "plt.plot(relocation.index, relocation, color=colors2[6])\n",
    "plt.plot(it_certs.index, it_certs, color=colors2[7])\n",
    "plt.plot(financial.index, financial, color=colors2[8])\n",
    "plt.plot(enrichment.index, enrichment, color=colors2[9])\n",
    "plt.plot(curiosity.index, curiosity, color=colors2[10])\n",
    "\n",
    "#Legend to read plot points\n",
    "plt.legend(['College_Requirement', 'Keep_Current', 'Career_Advancement', 'Career_Change', 'Professional_Development', 'Job_Loss', 'Relocation', 'IT-Certs', 'Financial', 'Enrichment', 'Curiosity'], title =\"Reasons for Attending Computer Courses\", fontsize=14, title_fontsize=14, bbox_to_anchor=(1.05, 1), loc='upper left')\n",
    "\n",
    "#Shot the plot graph\n",
    "plt.show()"
   ]
  },
  {
   "cell_type": "markdown",
   "id": "0e83a80c-70a4-4c9a-9ea9-d47e1dd3e057",
   "metadata": {},
   "source": [
    "### After plotting this data out, we now know the reasons why students enroll in computer science courses.\n",
    "###\n"
   ]
  },
  {
   "cell_type": "markdown",
   "id": "f1a1943e-0ff0-438d-85ed-a964f3af68e1",
   "metadata": {},
   "source": [
    "### 4.Compare the age demographics of the survey over time. (2020-2024) What are the changes over time if any?\n",
    "\n",
    "### Get the ages dataframe to plot the fourth question"
   ]
  },
  {
   "cell_type": "code",
   "execution_count": null,
   "id": "1576e871-4298-4625-9c4c-a04701e34539",
   "metadata": {},
   "outputs": [],
   "source": [
    "df2"
   ]
  },
  {
   "cell_type": "code",
   "execution_count": null,
   "id": "282c9b55-ec61-49d1-95dd-30070107412e",
   "metadata": {},
   "outputs": [],
   "source": [
    "\n",
    "#Grab the value_counts of the age demographics for each year\n",
    "\n",
    "ages2020 = df2['2020_ages'].value_counts(ascending=True)\n",
    "\n",
    "ages2021 = df2['2021_ages'].value_counts(ascending=True)\n",
    "\n",
    "ages2022 = df2['2022_ages'].value_counts(ascending=True)\n",
    "\n",
    "ages2023 = df2['2023_ages'].value_counts(ascending=True)\n",
    "\n",
    "ages2024 = df2['2024_ages'].value_counts(ascending=True)\n",
    "\n",
    "\n",
    "#Get the graph size\n",
    "plt.figure(figsize=(7,5))\n",
    "\n",
    "#Create the x-axis label\n",
    "plt.xlabel(\"Age Demographics\", fontsize=24)\n",
    "\n",
    "\n",
    "#Create the y-axis label\n",
    "plt.ylabel(\"Number of Students\", fontsize=24)\n",
    "\n",
    "\n",
    "#Plot out each year on a graph to see a possible trend\n",
    "plt.plot(ages2020.index, ages2020)\n",
    "\n",
    "plt.plot(ages2021.index, ages2021)\n",
    "\n",
    "plt.plot(ages2022.index, ages2022)\n",
    "\n",
    "plt.plot(ages2023.index, ages2023)\n",
    "\n",
    "plt.plot(ages2024.index, ages2024)\n",
    "\n",
    "\n",
    "#Scatter the plot points \n",
    "plt.scatter(ages2020.index, ages2020)\n",
    "\n",
    "plt.scatter(ages2021.index, ages2021)\n",
    "\n",
    "plt.scatter(ages2022.index, ages2022)\n",
    "\n",
    "plt.scatter(ages2023.index, ages2023)\n",
    "\n",
    "plt.scatter(ages2024.index, ages2024)\n",
    "\n",
    "#Create the legend for each plot based on year\n",
    "plt.legend(['2020', '2021', '2022', '2023', '2024'], fontsize=30, title_fontsize=30, bbox_to_anchor=(1.05, 1), title=\"Years\", loc='upper left')\n",
    "\n",
    "#Show the graph\n",
    "plt.show()\n"
   ]
  },
  {
   "cell_type": "markdown",
   "id": "3cf98ce4-3479-4a8e-b6ff-9fce8d2045c0",
   "metadata": {},
   "source": [
    "### After going over the data again by plotting, in 2022 both the 18 and younger and the 19-20 age groups \n",
    "### had the most students enrolled. Other than that, all other years had 19-20 year olds as the most enrolled."
   ]
  },
  {
   "cell_type": "markdown",
   "id": "5fa19eab-bc42-4d14-92bd-bc2dbc7e44f3",
   "metadata": {},
   "source": [
    "## Citations\n",
    "\n",
    "### Fessel, K. (2020, October 19). YouTube. https://www.youtube.com/watch?v=UUy6_ElQXBY&list=PLtPIclEQf-3dJmAj3IsSRwRoLbX-n3J81 \n",
    "\n",
    "### Galli, K. (2019, June 6). YouTube. https://www.youtube.com/watch?v=0P7QnIQDBJY&t=367s \n",
    "\n",
    "### OpenAI. \"How to Use Unique Values for a Bar Graph in Python.\" ChatGPT, 6 Mar. 2025\n",
    "\n",
    "### This is the prompt that helped me get an answer.\n",
    "\n",
    "### x = question1df['courses'].unique() How do i get the values to now show up in the x axis? I just want to use the values to do the bar graph. \n",
    "\n",
    "### With that prompt, I was able to figure out how to convert the unique values into a range of numbers with the len(range()) function. Also, it did help take the name of the courses off the x-axis. The names were cluttering the x-axis."
   ]
  },
  {
   "cell_type": "code",
   "execution_count": null,
   "id": "b39c518b-3c34-4199-8b5b-131696809ae1",
   "metadata": {},
   "outputs": [],
   "source": []
  }
 ],
 "metadata": {
  "kernelspec": {
   "display_name": "Python 3 (ipykernel)",
   "language": "python",
   "name": "python3"
  },
  "language_info": {
   "codemirror_mode": {
    "name": "ipython",
    "version": 3
   },
   "file_extension": ".py",
   "mimetype": "text/x-python",
   "name": "python",
   "nbconvert_exporter": "python",
   "pygments_lexer": "ipython3",
   "version": "3.12.7"
  }
 },
 "nbformat": 4,
 "nbformat_minor": 5
}
